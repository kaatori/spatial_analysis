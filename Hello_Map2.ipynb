{
  "nbformat": 4,
  "nbformat_minor": 0,
  "metadata": {
    "colab": {
      "name": "Hello_Map2.ipynb",
      "provenance": [],
      "authorship_tag": "ABX9TyMPMED4oFRDwtXwkbLtbxuo",
      "include_colab_link": true
    },
    "kernelspec": {
      "name": "python3",
      "display_name": "Python 3"
    }
  },
  "cells": [
    {
      "cell_type": "markdown",
      "metadata": {
        "id": "view-in-github",
        "colab_type": "text"
      },
      "source": [
        "<a href=\"https://colab.research.google.com/github/kaatori/spatial_analysis/blob/main/Hello_Map2.ipynb\" target=\"_parent\"><img src=\"https://colab.research.google.com/assets/colab-badge.svg\" alt=\"Open In Colab\"/></a>"
      ]
    },
    {
      "cell_type": "code",
      "metadata": {
        "id": "VIeTECdItDni",
        "outputId": "c6022829-e208-4e6a-87d5-0fe0e6e7710e",
        "colab": {
          "base_uri": "https://localhost:8080/"
        }
      },
      "source": [
        "pip install arcgis"
      ],
      "execution_count": null,
      "outputs": [
        {
          "output_type": "stream",
          "text": [
            "Collecting arcgis\n",
            "\u001b[?25l  Downloading https://files.pythonhosted.org/packages/ff/d4/a50b566132f3f4065ce92f261ecf6a17af22b8a9134edbf6b42fb57fe52f/arcgis-1.8.2.tar.gz (2.0MB)\n",
            "\u001b[K     |████████████████████████████████| 2.0MB 8.8MB/s \n",
            "\u001b[?25hRequirement already satisfied: six in /usr/local/lib/python3.6/dist-packages (from arcgis) (1.15.0)\n",
            "Requirement already satisfied: ipywidgets>=7 in /usr/local/lib/python3.6/dist-packages (from arcgis) (7.5.1)\n",
            "Requirement already satisfied: widgetsnbextension>=3 in /usr/local/lib/python3.6/dist-packages (from arcgis) (3.5.1)\n",
            "Requirement already satisfied: pandas>=1 in /usr/local/lib/python3.6/dist-packages (from arcgis) (1.1.2)\n",
            "Requirement already satisfied: numpy>=1.16.2 in /usr/local/lib/python3.6/dist-packages (from arcgis) (1.18.5)\n",
            "Requirement already satisfied: matplotlib in /usr/local/lib/python3.6/dist-packages (from arcgis) (3.2.2)\n",
            "Collecting keyring>=19\n",
            "  Using cached https://files.pythonhosted.org/packages/e4/ed/7be20815f248b0d6aae406783c2bee392640924623c4e17b50ca90c7f74d/keyring-21.4.0-py3-none-any.whl\n",
            "Collecting lerc\n",
            "  Using cached https://files.pythonhosted.org/packages/f2/20/73c8fa29a4ba8f8cbdb037369e6b61ac9253664a8aa0912b52169192447f/lerc-0.1.0.tar.gz\n",
            "Collecting jupyterlab\n",
            "  Using cached https://files.pythonhosted.org/packages/d7/a9/d7c904ee406d1ce320fd1d91e05111fa158e66bb217f68d070b5f58c5937/jupyterlab-2.2.8-py3-none-any.whl\n",
            "Collecting pyshp>=2\n",
            "  Using cached https://files.pythonhosted.org/packages/ca/1f/e9cc2c3fce32e2926581f8b6905831165235464c858ba550b6e9b8ef78c3/pyshp-2.1.2.tar.gz\n",
            "Requirement already satisfied: requests in /usr/local/lib/python3.6/dist-packages (from arcgis) (2.23.0)\n",
            "Requirement already satisfied: requests-oauthlib in /usr/local/lib/python3.6/dist-packages (from arcgis) (1.3.0)\n",
            "Collecting requests_toolbelt\n",
            "  Using cached https://files.pythonhosted.org/packages/60/ef/7681134338fc097acef8d9b2f8abe0458e4d87559c689a8c306d0957ece5/requests_toolbelt-0.9.1-py2.py3-none-any.whl\n",
            "Collecting requests_ntlm\n",
            "  Using cached https://files.pythonhosted.org/packages/03/4b/8b9a1afde8072c4d5710d9fa91433d504325821b038e00237dc8d6d833dc/requests_ntlm-1.1.0-py2.py3-none-any.whl\n",
            "Requirement already satisfied: traitlets>=4.3.1 in /usr/local/lib/python3.6/dist-packages (from ipywidgets>=7->arcgis) (4.3.3)\n",
            "Requirement already satisfied: nbformat>=4.2.0 in /usr/local/lib/python3.6/dist-packages (from ipywidgets>=7->arcgis) (5.0.7)\n",
            "Requirement already satisfied: ipykernel>=4.5.1 in /usr/local/lib/python3.6/dist-packages (from ipywidgets>=7->arcgis) (4.10.1)\n",
            "Requirement already satisfied: ipython>=4.0.0; python_version >= \"3.3\" in /usr/local/lib/python3.6/dist-packages (from ipywidgets>=7->arcgis) (5.5.0)\n",
            "Requirement already satisfied: notebook>=4.4.1 in /usr/local/lib/python3.6/dist-packages (from widgetsnbextension>=3->arcgis) (5.3.1)\n",
            "Requirement already satisfied: pytz>=2017.2 in /usr/local/lib/python3.6/dist-packages (from pandas>=1->arcgis) (2018.9)\n",
            "Requirement already satisfied: python-dateutil>=2.7.3 in /usr/local/lib/python3.6/dist-packages (from pandas>=1->arcgis) (2.8.1)\n",
            "Requirement already satisfied: pyparsing!=2.0.4,!=2.1.2,!=2.1.6,>=2.0.1 in /usr/local/lib/python3.6/dist-packages (from matplotlib->arcgis) (2.4.7)\n",
            "Requirement already satisfied: cycler>=0.10 in /usr/local/lib/python3.6/dist-packages (from matplotlib->arcgis) (0.10.0)\n",
            "Requirement already satisfied: kiwisolver>=1.0.1 in /usr/local/lib/python3.6/dist-packages (from matplotlib->arcgis) (1.2.0)\n",
            "Collecting SecretStorage>=3; sys_platform == \"linux\"\n",
            "  Using cached https://files.pythonhosted.org/packages/c3/50/8a02cad020e949e6d7105f5f4530d41e3febcaa5b73f8f2148aacb3aeba5/SecretStorage-3.1.2-py3-none-any.whl\n",
            "Requirement already satisfied: importlib-metadata; python_version < \"3.8\" in /usr/local/lib/python3.6/dist-packages (from keyring>=19->arcgis) (2.0.0)\n",
            "Collecting jeepney>=0.4.2; sys_platform == \"linux\"\n",
            "  Using cached https://files.pythonhosted.org/packages/79/31/2e8d42727595faf224c6dbb748c32b192e212f25495fe841fb7ce8e168b8/jeepney-0.4.3-py3-none-any.whl\n",
            "Requirement already satisfied: jinja2>=2.10 in /usr/local/lib/python3.6/dist-packages (from jupyterlab->arcgis) (2.11.2)\n",
            "Collecting jupyterlab-server<2.0,>=1.1.5\n",
            "  Using cached https://files.pythonhosted.org/packages/b4/eb/560043dcd8376328f8b98869efed66ef68307278406ab99c7f63a34d4ae2/jupyterlab_server-1.2.0-py3-none-any.whl\n",
            "Requirement already satisfied: tornado!=6.0.0,!=6.0.1,!=6.0.2 in /usr/local/lib/python3.6/dist-packages (from jupyterlab->arcgis) (5.1.1)\n",
            "Requirement already satisfied: certifi>=2017.4.17 in /usr/local/lib/python3.6/dist-packages (from requests->arcgis) (2020.6.20)\n",
            "Requirement already satisfied: idna<3,>=2.5 in /usr/local/lib/python3.6/dist-packages (from requests->arcgis) (2.10)\n",
            "Requirement already satisfied: chardet<4,>=3.0.2 in /usr/local/lib/python3.6/dist-packages (from requests->arcgis) (3.0.4)\n",
            "Requirement already satisfied: urllib3!=1.25.0,!=1.25.1,<1.26,>=1.21.1 in /usr/local/lib/python3.6/dist-packages (from requests->arcgis) (1.24.3)\n",
            "Requirement already satisfied: oauthlib>=3.0.0 in /usr/local/lib/python3.6/dist-packages (from requests-oauthlib->arcgis) (3.1.0)\n",
            "Collecting ntlm-auth>=1.0.2\n",
            "  Using cached https://files.pythonhosted.org/packages/ff/84/97c550164b54942b0e908c31ef09d9469f3ba4cd7332a671e2125732f63b/ntlm_auth-1.5.0-py2.py3-none-any.whl\n",
            "Collecting cryptography>=1.3\n",
            "  Using cached https://files.pythonhosted.org/packages/33/62/30f6936941d87a5ed72efb24249437824f6b2c953901245b58c91fde2f27/cryptography-3.1.1-cp35-abi3-manylinux2010_x86_64.whl\n",
            "Requirement already satisfied: decorator in /usr/local/lib/python3.6/dist-packages (from traitlets>=4.3.1->ipywidgets>=7->arcgis) (4.4.2)\n",
            "Requirement already satisfied: ipython-genutils in /usr/local/lib/python3.6/dist-packages (from traitlets>=4.3.1->ipywidgets>=7->arcgis) (0.2.0)\n",
            "Requirement already satisfied: jsonschema!=2.5.0,>=2.4 in /usr/local/lib/python3.6/dist-packages (from nbformat>=4.2.0->ipywidgets>=7->arcgis) (2.6.0)\n",
            "Requirement already satisfied: jupyter-core in /usr/local/lib/python3.6/dist-packages (from nbformat>=4.2.0->ipywidgets>=7->arcgis) (4.6.3)\n",
            "Requirement already satisfied: jupyter-client in /usr/local/lib/python3.6/dist-packages (from ipykernel>=4.5.1->ipywidgets>=7->arcgis) (5.3.5)\n",
            "Requirement already satisfied: pygments in /usr/local/lib/python3.6/dist-packages (from ipython>=4.0.0; python_version >= \"3.3\"->ipywidgets>=7->arcgis) (2.6.1)\n",
            "Requirement already satisfied: prompt-toolkit<2.0.0,>=1.0.4 in /usr/local/lib/python3.6/dist-packages (from ipython>=4.0.0; python_version >= \"3.3\"->ipywidgets>=7->arcgis) (1.0.18)\n",
            "Requirement already satisfied: pexpect; sys_platform != \"win32\" in /usr/local/lib/python3.6/dist-packages (from ipython>=4.0.0; python_version >= \"3.3\"->ipywidgets>=7->arcgis) (4.8.0)\n",
            "Requirement already satisfied: setuptools>=18.5 in /usr/local/lib/python3.6/dist-packages (from ipython>=4.0.0; python_version >= \"3.3\"->ipywidgets>=7->arcgis) (50.3.0)\n",
            "Requirement already satisfied: pickleshare in /usr/local/lib/python3.6/dist-packages (from ipython>=4.0.0; python_version >= \"3.3\"->ipywidgets>=7->arcgis) (0.7.5)\n",
            "Requirement already satisfied: simplegeneric>0.8 in /usr/local/lib/python3.6/dist-packages (from ipython>=4.0.0; python_version >= \"3.3\"->ipywidgets>=7->arcgis) (0.8.1)\n",
            "Requirement already satisfied: nbconvert in /usr/local/lib/python3.6/dist-packages (from notebook>=4.4.1->widgetsnbextension>=3->arcgis) (5.6.1)\n",
            "Requirement already satisfied: Send2Trash in /usr/local/lib/python3.6/dist-packages (from notebook>=4.4.1->widgetsnbextension>=3->arcgis) (1.5.0)\n",
            "Requirement already satisfied: terminado>=0.8.1 in /usr/local/lib/python3.6/dist-packages (from notebook>=4.4.1->widgetsnbextension>=3->arcgis) (0.9.1)\n",
            "Requirement already satisfied: zipp>=0.5 in /usr/local/lib/python3.6/dist-packages (from importlib-metadata; python_version < \"3.8\"->keyring>=19->arcgis) (3.2.0)\n",
            "Requirement already satisfied: MarkupSafe>=0.23 in /usr/local/lib/python3.6/dist-packages (from jinja2>=2.10->jupyterlab->arcgis) (1.1.1)\n",
            "Collecting json5\n",
            "  Using cached https://files.pythonhosted.org/packages/2b/81/22bf51a5bc60dde18bb6164fd597f18ee683de8670e141364d9c432dd3cf/json5-0.9.5-py2.py3-none-any.whl\n",
            "Requirement already satisfied: cffi!=1.11.3,>=1.8 in /usr/local/lib/python3.6/dist-packages (from cryptography>=1.3->requests_ntlm->arcgis) (1.14.3)\n",
            "Requirement already satisfied: pyzmq>=13 in /usr/local/lib/python3.6/dist-packages (from jupyter-client->ipykernel>=4.5.1->ipywidgets>=7->arcgis) (19.0.2)\n",
            "Requirement already satisfied: wcwidth in /usr/local/lib/python3.6/dist-packages (from prompt-toolkit<2.0.0,>=1.0.4->ipython>=4.0.0; python_version >= \"3.3\"->ipywidgets>=7->arcgis) (0.2.5)\n",
            "Requirement already satisfied: ptyprocess>=0.5 in /usr/local/lib/python3.6/dist-packages (from pexpect; sys_platform != \"win32\"->ipython>=4.0.0; python_version >= \"3.3\"->ipywidgets>=7->arcgis) (0.6.0)\n",
            "Requirement already satisfied: entrypoints>=0.2.2 in /usr/local/lib/python3.6/dist-packages (from nbconvert->notebook>=4.4.1->widgetsnbextension>=3->arcgis) (0.3)\n",
            "Requirement already satisfied: bleach in /usr/local/lib/python3.6/dist-packages (from nbconvert->notebook>=4.4.1->widgetsnbextension>=3->arcgis) (3.2.1)\n",
            "Requirement already satisfied: testpath in /usr/local/lib/python3.6/dist-packages (from nbconvert->notebook>=4.4.1->widgetsnbextension>=3->arcgis) (0.4.4)\n",
            "Requirement already satisfied: defusedxml in /usr/local/lib/python3.6/dist-packages (from nbconvert->notebook>=4.4.1->widgetsnbextension>=3->arcgis) (0.6.0)\n",
            "Requirement already satisfied: pandocfilters>=1.4.1 in /usr/local/lib/python3.6/dist-packages (from nbconvert->notebook>=4.4.1->widgetsnbextension>=3->arcgis) (1.4.2)\n",
            "Requirement already satisfied: mistune<2,>=0.8.1 in /usr/local/lib/python3.6/dist-packages (from nbconvert->notebook>=4.4.1->widgetsnbextension>=3->arcgis) (0.8.4)\n",
            "Requirement already satisfied: pycparser in /usr/local/lib/python3.6/dist-packages (from cffi!=1.11.3,>=1.8->cryptography>=1.3->requests_ntlm->arcgis) (2.20)\n",
            "Requirement already satisfied: packaging in /usr/local/lib/python3.6/dist-packages (from bleach->nbconvert->notebook>=4.4.1->widgetsnbextension>=3->arcgis) (20.4)\n",
            "Requirement already satisfied: webencodings in /usr/local/lib/python3.6/dist-packages (from bleach->nbconvert->notebook>=4.4.1->widgetsnbextension>=3->arcgis) (0.5.1)\n",
            "Building wheels for collected packages: arcgis, lerc, pyshp\n",
            "  Building wheel for arcgis (setup.py) ... \u001b[?25l\u001b[?25hdone\n",
            "  Created wheel for arcgis: filename=arcgis-1.8.2-py2.py3-none-any.whl size=2622661 sha256=af1fe22d88d32b906db40681b925bd84230d12a0e8edd03d53779f6199f5118c\n",
            "  Stored in directory: /root/.cache/pip/wheels/6b/7e/c6/525051b3bfef47058a9d5ecf450b35fa565aff22fb145008ae\n",
            "  Building wheel for lerc (setup.py) ... \u001b[?25l\u001b[?25hdone\n",
            "  Created wheel for lerc: filename=lerc-0.1.0-cp36-none-any.whl size=571700 sha256=f7abbc482ac20d3a3e7481078c0832e09a365acc72c1be1016fd80dae716b7f0\n",
            "  Stored in directory: /root/.cache/pip/wheels/91/25/fc/0975ce9d050d66a246aa3cd51b04af4ef94a8ad96ccda87f86\n",
            "  Building wheel for pyshp (setup.py) ... \u001b[?25l\u001b[?25hdone\n",
            "  Created wheel for pyshp: filename=pyshp-2.1.2-cp36-none-any.whl size=36216 sha256=a03ded3f2389205d504586c578cbada0b1462e0a7798cbf2829a0b84e9310746\n",
            "  Stored in directory: /root/.cache/pip/wheels/96/6c/53/4112475adf3b831da97f083163d0f38ee6daac9c1b13f7afea\n",
            "Successfully built arcgis lerc pyshp\n",
            "\u001b[31mERROR: jupyterlab-server 1.2.0 has requirement jsonschema>=3.0.1, but you'll have jsonschema 2.6.0 which is incompatible.\u001b[0m\n",
            "Installing collected packages: jeepney, cryptography, SecretStorage, keyring, lerc, json5, jupyterlab-server, jupyterlab, pyshp, requests-toolbelt, ntlm-auth, requests-ntlm, arcgis\n",
            "Successfully installed SecretStorage-3.1.2 arcgis-1.8.2 cryptography-3.1.1 jeepney-0.4.3 json5-0.9.5 jupyterlab-2.2.8 jupyterlab-server-1.2.0 keyring-21.4.0 lerc-0.1.0 ntlm-auth-1.5.0 pyshp-2.1.2 requests-ntlm-1.1.0 requests-toolbelt-0.9.1\n"
          ],
          "name": "stdout"
        }
      ]
    },
    {
      "cell_type": "code",
      "metadata": {
        "id": "eWqUaqh9s_zz",
        "outputId": "3705e911-c85b-42f5-a82e-a4d1e66c0f7e",
        "colab": {
          "base_uri": "https://localhost:8080/",
          "height": 425
        }
      },
      "source": [
        "import arcgis\n",
        "from IPython.display import display\n",
        "\n",
        "arcgis.gis.GIS()  # This is a gis object without any parameters\n",
        "\n",
        "gis = arcgis.gis.GIS()  # Assigning it to variable and printing\n",
        "print(gis)\n",
        "\n",
        "gis.map() #doesn't give any change in output\n",
        "\n",
        "my_map = gis.map(\"Reston, VA\")\n",
        "print(\"my_map printed out here is\" , my_map)\n",
        "\n",
        "gis.content.search\n",
        "items = gis.content.search(\"Reston Hiking Trails\", \"feature layer\")\n",
        "print(items)\n",
        "\n",
        "for item in items:\n",
        "    display(item)\n",
        "\n",
        "#create a variable to make the my_map show this info as a layer\n",
        "hiking_trails_lyr = gis.content.search(\"Reston Hiking Trails\", \"feature layer\")[0]\n",
        "\n",
        "my_map.add_layer(hiking_trails_lyr)\n",
        "print(my_map) "
      ],
      "execution_count": null,
      "outputs": [
        {
          "output_type": "stream",
          "text": [
            "GIS @ https://www.arcgis.com version:8.3\n",
            "my_map printed out here is MapView(layout=Layout(height='400px', width='100%'))\n",
            "[<Item title:\"NOVA Fishing Spots\" type:Feature Layer Collection owner:jac10037@esri.com_esrifederal>, <Item title:\"Non-County Trails\" type:Feature Layer Collection owner:FairfaxCounty>]\n"
          ],
          "name": "stdout"
        },
        {
          "output_type": "display_data",
          "data": {
            "text/html": [
              "<div class=\"item_container\" style=\"height: auto; overflow: hidden; border: 1px solid #cfcfcf; border-radius: 2px; background: #f6fafa; line-height: 1.21429em; padding: 10px;\">\n",
              "                    <div class=\"item_left\" style=\"width: 210px; float: left;\">\n",
              "                       <a href='https://www.arcgis.com/home/item.html?id=00fc563e8da94df586845e6e2b2c9c13' target='_blank'>\n",
              "                        <img src='https://www.arcgis.com/sharing/rest//content/items/00fc563e8da94df586845e6e2b2c9c13/info/thumbnail/ago_downloaded.png' class=\"itemThumbnail\">\n",
              "                       </a>\n",
              "                    </div>\n",
              "\n",
              "                    <div class=\"item_right\"     style=\"float: none; width: auto; overflow: hidden;\">\n",
              "                        <a href='https://www.arcgis.com/home/item.html?id=00fc563e8da94df586845e6e2b2c9c13' target='_blank'><b>NOVA Fishing Spots</b>\n",
              "                        </a>\n",
              "                        <br/>Where to take the family fishing in NoVA\n",
              "JUNE 19, 2018 by MICAELA WILLIAMSON\n",
              "5000\n",
              "Fishing is a fantastic and affordable activity for family fun and NoVA’s lakes, rivers and streams offer a variety of fishing experiences for all ages. Here, find some <img src='https://www.arcgis.com/home/js/jsapi/esri/css/images/item_type_icons/featureshosted16.png' style=\"vertical-align:middle;\">Feature Layer Collection by jac10037@esri.com_esrifederal\n",
              "                        <br/>Last Modified: July 24, 2019\n",
              "                        <br/>0 comments, 234 views\n",
              "                    </div>\n",
              "                </div>\n",
              "                "
            ],
            "text/plain": [
              "<Item title:\"NOVA Fishing Spots\" type:Feature Layer Collection owner:jac10037@esri.com_esrifederal>"
            ]
          },
          "metadata": {
            "tags": []
          }
        },
        {
          "output_type": "display_data",
          "data": {
            "text/html": [
              "<div class=\"item_container\" style=\"height: auto; overflow: hidden; border: 1px solid #cfcfcf; border-radius: 2px; background: #f6fafa; line-height: 1.21429em; padding: 10px;\">\n",
              "                    <div class=\"item_left\" style=\"width: 210px; float: left;\">\n",
              "                       <a href='https://www.arcgis.com/home/item.html?id=ffa1a86b009c4528899c7e0ae50b5e5b' target='_blank'>\n",
              "                        <img src='https://www.arcgis.com/sharing/rest//content/items/ffa1a86b009c4528899c7e0ae50b5e5b/info/thumbnail/thumbnail1559051307896.jpeg' class=\"itemThumbnail\">\n",
              "                       </a>\n",
              "                    </div>\n",
              "\n",
              "                    <div class=\"item_right\"     style=\"float: none; width: auto; overflow: hidden;\">\n",
              "                        <a href='https://www.arcgis.com/home/item.html?id=ffa1a86b009c4528899c7e0ae50b5e5b' target='_blank'><b>Non-County Trails</b>\n",
              "                        </a>\n",
              "                        <br/>Trails within and around Fairfax County that are not maintained by Fairfax County. <img src='https://www.arcgis.com/home/js/jsapi/esri/css/images/item_type_icons/featureshosted16.png' style=\"vertical-align:middle;\">Feature Layer Collection by FairfaxCounty\n",
              "                        <br/>Last Modified: October 04, 2020\n",
              "                        <br/>0 comments, 10,195 views\n",
              "                    </div>\n",
              "                </div>\n",
              "                "
            ],
            "text/plain": [
              "<Item title:\"Non-County Trails\" type:Feature Layer Collection owner:FairfaxCounty>"
            ]
          },
          "metadata": {
            "tags": []
          }
        },
        {
          "output_type": "stream",
          "text": [
            "MapView(layout=Layout(height='400px', width='100%'))\n"
          ],
          "name": "stdout"
        }
      ]
    }
  ]
}